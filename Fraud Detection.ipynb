{
 "cells": [
  {
   "cell_type": "markdown",
   "id": "986f2554-fc02-4865-b1c8-c8dc2fcd445e",
   "metadata": {},
   "source": [
    "# Fraud Detection\n",
    "\n",
    "Classify transactions as fraud or non-fraud using an LSTM-based neural network. Data coming from https://github.com/IBM/TabFormer/tree/main/data/credit_card.\n",
    "\n",
    "## Authors\n",
    "\n",
    "Natalie Jann [natalie.jann@ibm.com](mailto:natalie.jann@ibm.com)\n",
    "\n",
    "Sebastian Lehrig [sebastian.lehrig1@ibm.com](mailto:sebastian.lehrig1@ibm.com)\n",
    "\n",
    "Marvin Giessing [MARVING@de.ibm.com](mailto:MARVING@de.ibm.com)\n",
    "\n",
    "## License\n",
    "\n",
    "Apache-2.0 License\n",
    "\n",
    "## 0.) Imports & Constants"
   ]
  },
  {
   "cell_type": "raw",
   "id": "86682cb9-31c1-405e-bdd6-b237b642d6f1",
   "metadata": {},
   "source": [
    "conda install -y pydot libgfortran5 sklearn-pandas imbalanced-learn"
   ]
  },
  {
   "cell_type": "code",
   "execution_count": 40,
   "id": "ec6f6919-b7f0-45ff-ab6b-c42c4fea458b",
   "metadata": {},
   "outputs": [
    {
     "name": "stdout",
     "output_type": "stream",
     "text": [
      "The lab_black extension is already loaded. To reload it, use:\n",
      "  %reload_ext lab_black\n"
     ]
    }
   ],
   "source": [
    "import json\n",
    "import kfp\n",
    "from kfp.components import InputPath, OutputPath\n",
    "import kfp.dsl as dsl\n",
    "from kfp.dsl import PipelineConf, data_passing_methods\n",
    "from kubernetes.client.models import V1Volume, V1PersistentVolumeClaimVolumeSource\n",
    "import os\n",
    "from pydoc import importfile\n",
    "import requests\n",
    "from tensorflow import keras\n",
    "from typing import List\n",
    "\n",
    "\n",
    "%load_ext lab_black"
   ]
  },
  {
   "cell_type": "code",
   "execution_count": 41,
   "id": "b5138b48-5058-4cb5-a0d8-364c043ec2cb",
   "metadata": {},
   "outputs": [],
   "source": [
    "# download data from https://ibm.ent.box.com/v/tabformer-data/file/770766751708 and upload to postgresql"
   ]
  },
  {
   "cell_type": "code",
   "execution_count": 42,
   "id": "5201be39-bb73-40a8-908a-4d9a50129633",
   "metadata": {},
   "outputs": [],
   "source": [
    "# Environment-specific configurations\n",
    "# - Activate train-bursting by setting a CLUSTER_CONFIGURATION_SECRET containing the remote cluster configuration\n",
    "# - Activate distributed training by setting NUMBER_OF_WORKERS > 1; TRAINING_GPUS hold per worker\n",
    "#\n",
    "# %env CLUSTER_CONFIGURATION_SECRET remote-power-cluster\n",
    "# %env CLUSTER_CONFIGURATION_SECRET remote-x86-cluster\n",
    "# %env CLUSTER_CONFIGURATION_SECRET remote-x86-telekom-cluster\n",
    "# %env TRAINING_GPUS 1\n",
    "# %env NUMBER_OF_WORKERS 2\n",
    "# %env TRAINING_NODE_SELECTOR nvidia.com/gpu.product: \"Tesla-V100-SXM2-32GB\"\n",
    "# %env TRAINING_NODE_SELECTOR kubernetes.io/hostname: node2\n",
    "# %env TRAINING_NODE_SELECTOR worker_type: baremetal_worker\n",
    "#\n",
    "# Reset:\n",
    "# del os.environ['CLUSTER_CONFIGURATION_SECRET']\n",
    "# del os.environ['TRAINING_GPUS']\n",
    "# del os.environ['TRAINING_NODE_SELECTOR']"
   ]
  },
  {
   "cell_type": "code",
   "execution_count": 43,
   "id": "6b80193b-7c64-42eb-9f34-7cf9d3e75b41",
   "metadata": {},
   "outputs": [
    {
     "data": {
      "text/plain": [
       "{'blackboard': 'artefacts',\n",
       " 'model_name': 'fraud-detection',\n",
       " 'cluster_configuration_secret': '',\n",
       " 'training_gpus': '1',\n",
       " 'training_node_selector': ''}"
      ]
     },
     "execution_count": 43,
     "metadata": {},
     "output_type": "execute_result"
    }
   ],
   "source": [
    "BASE_IMAGE = \"quay.io/ibm/kubeflow-notebook-image-ppc64le:latest\"\n",
    "\n",
    "COMPONENT_CATALOG_FOLDER = f\"{os.getenv('HOME')}/components\"\n",
    "COMPONENT_CATALOG_GIT = \"https://github.com/lehrig/kubeflow-ppc64le-components.git\"\n",
    "COMPONENT_CATALOG_RELEASE = \"main\"\n",
    "\n",
    "ARGUMENTS = {\n",
    "    \"blackboard\": \"artefacts\",\n",
    "    \"model_name\": \"fraud-detection\",\n",
    "    \"cluster_configuration_secret\": os.getenv(\n",
    "        \"CLUSTER_CONFIGURATION_SECRET\", default=\"\"\n",
    "    ),\n",
    "    \"training_gpus\": os.getenv(\"TRAINING_GPUS\", default=\"1\"),\n",
    "    \"training_node_selector\": os.getenv(\"TRAINING_NODE_SELECTOR\", default=\"\"),\n",
    "}\n",
    "MODEL_NAME = ARGUMENTS[\"model_name\"]\n",
    "\n",
    "with open(\"/var/run/secrets/kubernetes.io/serviceaccount/namespace\") as f:\n",
    "    NAMESPACE = f.read()\n",
    "\n",
    "ARGUMENTS"
   ]
  },
  {
   "cell_type": "markdown",
   "id": "2f46177b-c838-456d-aafc-0fa086205fcc",
   "metadata": {},
   "source": [
    "\n",
    "## 1.) Load catalog with reusable Kubeflow components"
   ]
  },
  {
   "cell_type": "code",
   "execution_count": 44,
   "id": "2376960e-15e6-4434-8b5a-503912fe13e8",
   "metadata": {},
   "outputs": [
    {
     "name": "stdout",
     "output_type": "stream",
     "text": [
      "fatal: destination path '/home/jovyan/components' already exists and is not an empty directory.\n"
     ]
    }
   ],
   "source": [
    "!git clone --branch $COMPONENT_CATALOG_RELEASE $COMPONENT_CATALOG_GIT $COMPONENT_CATALOG_FOLDER"
   ]
  },
  {
   "cell_type": "code",
   "execution_count": 45,
   "id": "ab2774ea-74a5-43d9-965a-15c9af11fbce",
   "metadata": {},
   "outputs": [],
   "source": [
    "CATALOG = importfile(f\"{COMPONENT_CATALOG_FOLDER}/catalog.py\")"
   ]
  },
  {
   "cell_type": "markdown",
   "id": "74fe194f-9e2e-4e1f-ae02-d9f0c55d1efb",
   "metadata": {},
   "source": [
    "## 2.) Create custom components"
   ]
  },
  {
   "cell_type": "markdown",
   "id": "f536aff6-9ff7-4ddd-9cfe-f633d101ea84",
   "metadata": {},
   "source": [
    "### 2.1) Component: Preprocess data (dataset loading, rebalancing & splitting)"
   ]
  },
  {
   "cell_type": "code",
   "execution_count": 46,
   "id": "9dadbaf5-671c-4dbe-b6f9-5008e5ef0743",
   "metadata": {},
   "outputs": [],
   "source": [
    "def preprocess_dataset(\n",
    "    dataframe: InputPath(str),\n",
    "    validation_dataset_dir: OutputPath(str),\n",
    "    train_dataset_dir: OutputPath(str),\n",
    ") -> List[str]:\n",
    "\n",
    "    from imblearn.over_sampling import RandomOverSampler\n",
    "    import math\n",
    "    import numpy as np\n",
    "    import os\n",
    "    import pandas as pd\n",
    "\n",
    "    def save_to_dir(x, y, directory):\n",
    "        if not os.path.exists(directory):\n",
    "            os.makedirs(directory)\n",
    "        np.savez(os.path.join(directory, \"data.npz\"), x=x, y=y)\n",
    "\n",
    "    def split_dataset(n, df):\n",
    "        test = df.iloc[:n, :]\n",
    "        train = df.iloc[n:, :]\n",
    "        return test, train\n",
    "\n",
    "    def merge_splits(frauds, non_frauds, split):\n",
    "        print(\n",
    "            f\"{split} ratio fraud ({len(frauds)}) / non-fraud ({len(non_frauds)}):\",\n",
    "            len(frauds) / len(non_frauds),\n",
    "        )\n",
    "        df = pd.concat([frauds, non_frauds])\n",
    "        df.sort_values(\"year_month_day_time\", inplace=True)\n",
    "\n",
    "        x, y = df.drop([\"is fraud\"], axis=1), df[\"is fraud\"]\n",
    "        min_ind = math.floor(len(x) / 128)\n",
    "        x, y = x[-min_ind * 128 :], y[-min_ind * 128 :]\n",
    "        y = y.astype(\"int\")\n",
    "        return x, y\n",
    "\n",
    "    dataset = pd.read_feather(dataframe)\n",
    "    dataset = dataset.sample(frac=1)  # shuffle randomly\n",
    "\n",
    "    frauds = dataset[dataset[\"is fraud\"] == 1]\n",
    "    non_frauds = dataset[dataset[\"is fraud\"] == 0]\n",
    "    ratio = len(frauds) / len(non_frauds)\n",
    "    print(\n",
    "        f\"{len(frauds)} Frauds ({len(frauds)/len(dataset)*100}%) and {len(non_frauds)} Non-Frauds ({len(non_frauds)/len(dataset)*100}%) - ratio: {ratio}).\"\n",
    "    )\n",
    "\n",
    "    test_ratio = 0.1\n",
    "    n_test_frauds = int(test_ratio * len(frauds))\n",
    "    n_test_non_frauds = int(test_ratio * len(non_frauds))\n",
    "    n_train_frauds = len(frauds) - n_test_frauds\n",
    "    n_train_non_frauds = len(non_frauds) - n_test_non_frauds\n",
    "    # n_frauds = int(0.001 * len(dataset))\n",
    "    # n_non_frauds = int(len(dataset) * 0.2 - n_frauds)\n",
    "\n",
    "    print(f\"Frauds in test split: {n_test_frauds}\")\n",
    "    test_frauds, train_frauds = split_dataset(n_test_frauds, frauds)\n",
    "\n",
    "    print(f\"Non-Frauds in test split: {n_test_non_frauds}\")\n",
    "    test_non_frauds, train_non_frauds = split_dataset(n_test_non_frauds, non_frauds)\n",
    "\n",
    "    x_train, y_train = merge_splits(train_frauds, train_non_frauds, \"Train\")\n",
    "    x_test, y_test = merge_splits(test_frauds, test_non_frauds, \"Test\")\n",
    "    print(\n",
    "        f\"Using the following y-label: {y_train.name} and x-features: {x_train.columns}\"\n",
    "    )\n",
    "\n",
    "    over_sampler = RandomOverSampler(random_state=37, sampling_strategy=0.1)\n",
    "    train_input, train_target = over_sampler.fit_resample(x_train, y_train)\n",
    "    # train_input, train_target = x_train, y_train # use this if you don't want to oversample\n",
    "    print(\n",
    "        sum(train_target == 0),\n",
    "        \"negative &\",\n",
    "        sum(train_target == 1),\n",
    "        \"positive training samples (after upsampling)\",\n",
    "    )\n",
    "    print(\n",
    "        sum(y_test == 0),\n",
    "        \"negative &\",\n",
    "        sum(y_test == 1),\n",
    "        \"positive test samples\",\n",
    "    )\n",
    "    train = pd.concat([pd.DataFrame(train_target), pd.DataFrame(train_input)], axis=1)\n",
    "    train.columns = dataset.columns\n",
    "    train.sort_values(\"year_month_day_time\", inplace=True)\n",
    "    train_input, train_target = train.drop([\"is fraud\"], axis=1), train[\"is fraud\"]\n",
    "\n",
    "    train_target = train_target.to_numpy().reshape(len(train_target), 1)\n",
    "    y_test = y_test.to_numpy().reshape(len(y_test), 1)\n",
    "\n",
    "    save_to_dir(train_input.to_numpy(), train_target, train_dataset_dir)\n",
    "    save_to_dir(x_test.to_numpy(), y_test, validation_dataset_dir)\n",
    "\n",
    "    print(f\"Pre-processed train dataset saved. Contents of '{train_dataset_dir}':\")\n",
    "    print(os.listdir(\"/\".join(str(train_dataset_dir).split(\"/\")[:-1])))\n",
    "    print(f\"Pre-processed test dataset saved. Contents of '{validation_dataset_dir}':\")\n",
    "    print(os.listdir(\"/\".join(str(validation_dataset_dir).split(\"/\")[:-1])))\n",
    "\n",
    "    print(train_input.columns)\n",
    "    return list(train_input.columns)\n",
    "\n",
    "\n",
    "preprocess_dataset_comp = kfp.components.create_component_from_func(\n",
    "    func=preprocess_dataset,\n",
    "    base_image=BASE_IMAGE,\n",
    ")"
   ]
  },
  {
   "cell_type": "markdown",
   "id": "0d4a6175-476a-41fd-aba8-7f47a9faf1a2",
   "metadata": {},
   "source": [
    "### 2.2) Specification: model training & evaluation"
   ]
  },
  {
   "cell_type": "code",
   "execution_count": 47,
   "id": "02f41327-d0e7-4cf2-b4f9-8587f7a464f4",
   "metadata": {},
   "outputs": [],
   "source": [
    "def train_model(\n",
    "    model_dir: OutputPath(str),\n",
    "    train_dataset_dir: InputPath(str),\n",
    "    validation_dataset_dir: InputPath(str),\n",
    "    epochs: int = 10,\n",
    "    seqlen: int = 7,\n",
    "):\n",
    "    import numpy as np\n",
    "    import os\n",
    "    from tensorflow import keras\n",
    "    from tensorflow.keras.callbacks import (\n",
    "        EarlyStopping,\n",
    "        ModelCheckpoint,\n",
    "        ReduceLROnPlateau,\n",
    "        TensorBoard,\n",
    "    )\n",
    "    from tensorflow.keras.layers import Input, LSTM, Dense\n",
    "    from tensorflow.keras.metrics import (\n",
    "        TruePositives,\n",
    "        FalsePositives,\n",
    "        FalseNegatives,\n",
    "        TrueNegatives,\n",
    "    )\n",
    "\n",
    "    def load_dataset(path):\n",
    "        data = np.load(os.path.join(path, \"data.npz\"), allow_pickle=True)\n",
    "        x, y = data[\"x\"], data[\"y\"]\n",
    "        x = np.asarray(x).astype(np.float32)\n",
    "        y = np.asarray(y).astype(np.int_)\n",
    "        dataset = keras.preprocessing.timeseries_dataset_from_array(\n",
    "            x, y, sequence_length=seqlen, batch_size=128\n",
    "        )\n",
    "        return dataset\n",
    "\n",
    "    if not os.path.exists(model_dir):\n",
    "        os.makedirs(model_dir)\n",
    "\n",
    "    train_dataset = load_dataset(train_dataset_dir)\n",
    "    test_dataset = load_dataset(validation_dataset_dir)\n",
    "\n",
    "    for batch in train_dataset.take(1):\n",
    "        input_d, targets = batch\n",
    "    print(\"Input shape:\", input_d.numpy().shape, \"Target shape:\", targets.numpy().shape)\n",
    "\n",
    "    input_shape = (input_d.shape[1], input_d.shape[2])\n",
    "    inputs = Input(shape=input_shape)\n",
    "    lstm_in = LSTM(100, batch_size=7, return_sequences=True)(inputs)\n",
    "    lstm_out = LSTM(100, batch_size=7)(lstm_in)\n",
    "    outputs = Dense(1, activation=\"sigmoid\")(lstm_out)\n",
    "    model = keras.Model(inputs=inputs, outputs=outputs)\n",
    "\n",
    "    metrics = [\n",
    "        \"accuracy\",\n",
    "        TruePositives(name=\"tp\"),\n",
    "        FalsePositives(name=\"fp\"),\n",
    "        FalseNegatives(name=\"fn\"),\n",
    "        TrueNegatives(name=\"tn\"),\n",
    "    ]\n",
    "    # loss = keras.losses.BinaryFocalCrossentropy(apply_class_balancing=True)\n",
    "    model.compile(optimizer=\"adam\", loss=\"binary_crossentropy\", metrics=metrics)\n",
    "    print(model.summary())\n",
    "\n",
    "    print(\"Initializing training callbacks...\")\n",
    "    callbacks = [\n",
    "        EarlyStopping(monitor=\"loss\", patience=20, verbose=0, mode=\"min\"),\n",
    "        ModelCheckpoint(\n",
    "            f\"{model_dir}/best_model.keras\",\n",
    "            monitor=\"loss\",\n",
    "            save_best_only=True,\n",
    "            save_weights_only=True,\n",
    "            mode=\"min\",\n",
    "        ),\n",
    "        ReduceLROnPlateau(\n",
    "            monitor=\"loss\",\n",
    "            factor=0.1,\n",
    "            patience=7,\n",
    "            verbose=1,\n",
    "            min_delta=0.0001,\n",
    "            mode=\"min\",\n",
    "        ),\n",
    "        TensorBoard(\n",
    "            log_dir=os.environ[\"TENSORBOARD_S3_ADDRESS\"],\n",
    "            histogram_freq=1,\n",
    "        ),\n",
    "    ]\n",
    "\n",
    "    model.fit(\n",
    "        train_dataset,\n",
    "        epochs=epochs,\n",
    "        verbose=3,\n",
    "        callbacks=callbacks,\n",
    "    )\n",
    "\n",
    "    results = model.evaluate(test_dataset)\n",
    "    print(\"Evaluation Loss, Accuracy, TP, FP, FN, TN:\", results)\n",
    "    TP, FP, FN, TN = results[2:]\n",
    "    if TP != 0:\n",
    "        PR = TP / (FP + TP)\n",
    "        RE = TP / (FN + TP)\n",
    "        print(\"F1 Measure:\", 2 * (PR * RE / (PR + RE)))\n",
    "\n",
    "    model.save(model_dir)\n",
    "\n",
    "\n",
    "train_specification = kfp.components.func_to_component_text(func=train_model)"
   ]
  },
  {
   "cell_type": "markdown",
   "id": "f1a3e0ce-f3b6-45c9-938e-b979e2f26b2c",
   "metadata": {},
   "source": [
    "## 2.3) Component: Prediction on Test Set for Confusion Matrix"
   ]
  },
  {
   "cell_type": "code",
   "execution_count": 48,
   "id": "e52270fc-1cfb-4e1d-b68c-30faa50599a9",
   "metadata": {},
   "outputs": [],
   "source": [
    "def predict(\n",
    "    model_dir: InputPath(str),\n",
    "    test_dataset_dir: InputPath(str),\n",
    "    predictions_dir: OutputPath(str),\n",
    "    seq_len: int = 7,\n",
    "):\n",
    "\n",
    "    from tensorflow import keras\n",
    "    import numpy as np\n",
    "    import os\n",
    "\n",
    "    data = np.load(os.path.join(test_dataset_dir, \"data.npz\"), allow_pickle=True)\n",
    "    x, y = data[\"x\"], data[\"y\"]\n",
    "    x = np.asarray(x).astype(np.float32)\n",
    "    y = np.asarray(y).astype(np.int_)\n",
    "    test_dataset = keras.preprocessing.timeseries_dataset_from_array(\n",
    "        x, y, sequence_length=seq_len, batch_size=128\n",
    "    )\n",
    "    y = np.concatenate([b for a, b in test_dataset], axis=0)\n",
    "    model = keras.models.load_model(model_dir)\n",
    "    preds = model.predict(test_dataset)\n",
    "    preds = [str(int(pred[0] > 0.5)) + \"\\n\" for pred in preds]\n",
    "    y = [str(x[0].item()) + \"\\n\" for x in y]\n",
    "\n",
    "    if not os.path.exists(predictions_dir):\n",
    "        os.makedirs(predictions_dir)\n",
    "    with open(os.path.join(predictions_dir, \"ytrue.txt\"), \"w\") as f:\n",
    "        f.writelines(y)\n",
    "    with open(os.path.join(predictions_dir, \"ypred.txt\"), \"w\") as f:\n",
    "        f.writelines(preds)\n",
    "\n",
    "\n",
    "predict_comp = kfp.components.create_component_from_func(\n",
    "    func=predict, base_image=BASE_IMAGE\n",
    ")"
   ]
  },
  {
   "cell_type": "markdown",
   "id": "31a57fc3-853b-4e6f-abe9-643077a5632c",
   "metadata": {},
   "source": [
    "### 2.4) Component: Deploy to AIX"
   ]
  },
  {
   "cell_type": "code",
   "execution_count": 49,
   "id": "819b692d-2d41-4def-b8a4-c773350440f8",
   "metadata": {},
   "outputs": [],
   "source": [
    "def deploy_to_aix(\n",
    "    model_version: int = 1,\n",
    "):\n",
    "    import requests\n",
    "\n",
    "    print(\"Updating model at AIX...\")\n",
    "    response = requests.get(\n",
    "        f\"http://p114oracle.pbm.ihost.com:3000/update?model_version={model_version}\"\n",
    "    )\n",
    "    print(response.text)\n",
    "\n",
    "\n",
    "deploy_to_aix_comp = kfp.components.create_component_from_func(\n",
    "    func=deploy_to_aix, base_image=BASE_IMAGE\n",
    ")"
   ]
  },
  {
   "cell_type": "markdown",
   "id": "d15c3a7c-887d-43a8-aca7-ff877afd1eb4",
   "metadata": {},
   "source": [
    "## 3.) Create the actual pipeline by combining the components"
   ]
  },
  {
   "cell_type": "code",
   "execution_count": 53,
   "id": "e8da0800-4e73-4da6-b09b-197fd51654d0",
   "metadata": {},
   "outputs": [],
   "source": [
    "@dsl.pipeline(\n",
    "    name=\"Fraud detection\",\n",
    "    description=\"An example pipeline that tries to predict fraudulent credit card transactions\",\n",
    ")\n",
    "def fraud_pipeline(\n",
    "    blackboard: str,\n",
    "    model_name: str,\n",
    "    cluster_configuration_secret: str,\n",
    "    training_gpus: int,\n",
    "    training_node_selector: str,\n",
    "):\n",
    "    create_blackboard = dsl.VolumeOp(\n",
    "        name=\"Create Artefacts Blackboard\",\n",
    "        resource_name=blackboard,\n",
    "        modes=dsl.VOLUME_MODE_RWO,\n",
    "        size=\"4Gi\",\n",
    "        set_owner_reference=True,\n",
    "    )\n",
    "\n",
    "    load_dataframe_via_trino_task = CATALOG.load_dataframe_via_trino_comp(\n",
    "        # query=\"SELECT * FROM postgresql.public.transactions OFFSET 20\",\n",
    "        query=\"SELECT * FROM oracle.ADMIN.transactions OFFSET 20\",\n",
    "        # columns_query=\"SHOW COLUMNS FROM postgresql.public.transactions\",\n",
    "        columns_query=\"SHOW COLUMNS FROM oracle.ADMIN.transactions\",\n",
    "    )\n",
    "    load_dataframe_via_trino_task.after(create_blackboard)\n",
    "\n",
    "    CATALOG.create_dataset_quality_report(\n",
    "        dataset_dir=load_dataframe_via_trino_task.outputs[\"dataframe\"],\n",
    "        dataset_type=\"df/feather\",\n",
    "    )\n",
    "\n",
    "    preprocess_dataset_task = preprocess_dataset_comp(\n",
    "        dataframe=load_dataframe_via_trino_task.outputs[\"dataframe\"]\n",
    "    )\n",
    "\n",
    "    monitor_training_task = CATALOG.monitor_training_comp()\n",
    "\n",
    "    train_parameters = {\n",
    "        \"train_dataset_dir\": \"train_dataset_dir\",\n",
    "        \"validation_dataset_dir\": \"validation_dataset_dir\",\n",
    "        \"model_dir\": \"model_dir\",\n",
    "        \"epochs\": \"2\",\n",
    "        \"seqlen\": \"4\",\n",
    "    }\n",
    "\n",
    "    train_model_task = CATALOG.train_model_comp(\n",
    "        preprocess_dataset_task.outputs[\"train_dataset_dir\"],\n",
    "        preprocess_dataset_task.outputs[\"validation_dataset_dir\"],\n",
    "        train_specification,\n",
    "        train_parameters,\n",
    "        model_name=model_name,\n",
    "        gpus=training_gpus,\n",
    "        node_selector=training_node_selector,\n",
    "        tensorboard_s3_address=monitor_training_task.outputs[\"tensorboard_s3_address\"],\n",
    "        cluster_configuration_secret=cluster_configuration_secret,\n",
    "    )\n",
    "\n",
    "    # plot_confusion_matrix_task = CATALOG.plot_confusion_matrix_comp(\n",
    "    #    input_columns=preprocess_dataset_task.outputs[\"output\"],\n",
    "    #    label_columns={\"is fraud\": [0, 1]},\n",
    "    #    test_dataset_dir=preprocess_dataset_task.outputs[\"validation_dataset_dir\"],\n",
    "    #    model_dir=train_model_task.outputs[\"model_dir\"],\n",
    "    #    seq_len=int(train_parameters[\"seqlen\"]),\n",
    "    # )\n",
    "\n",
    "    predict_task = predict_comp(\n",
    "        test_dataset_dir=preprocess_dataset_task.outputs[\"validation_dataset_dir\"],\n",
    "        model_dir=train_model_task.outputs[\"model_dir\"],\n",
    "    )\n",
    "\n",
    "    CATALOG.plot_confusion_matrix_predictions_comp(\n",
    "        predictions_dir=predict_task.outputs[\"predictions_dir\"]\n",
    "    )\n",
    "\n",
    "    convert_model_to_onnx_task = CATALOG.convert_model_to_onnx_comp(\n",
    "        train_model_task.outputs[\"model_dir\"]\n",
    "    )\n",
    "\n",
    "    upload_model_task = CATALOG.upload_model_comp(\n",
    "        file_dir=convert_model_to_onnx_task.outputs[\"onnx_model_dir\"],\n",
    "        project_name=model_name,\n",
    "    )\n",
    "\n",
    "    CATALOG.deploy_model_with_kserve_comp(\n",
    "        project_name=model_name,\n",
    "        model_version=upload_model_task.outputs[\"model_version\"],\n",
    "    )\n",
    "\n",
    "    deploy_to_aix_comp(upload_model_task.outputs[\"model_version\"])"
   ]
  },
  {
   "cell_type": "markdown",
   "id": "948a3172-620e-4138-9715-c09ee2d7ec46",
   "metadata": {},
   "source": [
    "## 4.) Run the pipeline within an experiment\n",
    "Create a pipeline run, using a pipeline configuration that:\n",
    "- enables data passing via persistent volumes (faster than the default MinIO-based passing)\n",
    "- disables caching (which currently is not supported for data passing via volumes)"
   ]
  },
  {
   "cell_type": "code",
   "execution_count": 54,
   "id": "4f5cb70a-1e40-438f-918f-85dc903909ae",
   "metadata": {},
   "outputs": [
    {
     "data": {
      "text/html": [
       "<a href=\"/pipeline/#/experiments/details/5a8f5bcf-1dd6-4627-8126-37cc2350da48\" target=\"_blank\" >Experiment details</a>."
      ],
      "text/plain": [
       "<IPython.core.display.HTML object>"
      ]
     },
     "metadata": {},
     "output_type": "display_data"
    },
    {
     "data": {
      "text/html": [
       "<a href=\"/pipeline/#/runs/details/456e5e98-5175-46c8-b821-8ffdd713d6d3\" target=\"_blank\" >Run details</a>."
      ],
      "text/plain": [
       "<IPython.core.display.HTML object>"
      ]
     },
     "metadata": {},
     "output_type": "display_data"
    },
    {
     "data": {
      "text/plain": [
       "RunPipelineResult(run_id=456e5e98-5175-46c8-b821-8ffdd713d6d3)"
      ]
     },
     "execution_count": 54,
     "metadata": {},
     "output_type": "execute_result"
    }
   ],
   "source": [
    "def disable_cache_transformer(op):\n",
    "    if isinstance(op, dsl.ContainerOp):\n",
    "        op.execution_options.caching_strategy.max_cache_staleness = \"P0D\"\n",
    "    else:\n",
    "        op.add_pod_annotation(\n",
    "            name=\"pipelines.kubeflow.org/max_cache_staleness\", value=\"P0D\"\n",
    "        )\n",
    "    return op\n",
    "\n",
    "\n",
    "pipeline_conf = PipelineConf()\n",
    "pipeline_conf.add_op_transformer(disable_cache_transformer)\n",
    "pipeline_conf.data_passing_method = data_passing_methods.KubernetesVolume(\n",
    "    volume=V1Volume(\n",
    "        name=ARGUMENTS[\"blackboard\"],\n",
    "        persistent_volume_claim=V1PersistentVolumeClaimVolumeSource(\n",
    "            \"{{workflow.name}}-%s\" % ARGUMENTS[\"blackboard\"]\n",
    "        ),\n",
    "    ),\n",
    "    path_prefix=f'{ARGUMENTS[\"blackboard\"]}/',\n",
    ")\n",
    "\n",
    "kfp.Client().create_run_from_pipeline_func(\n",
    "    fraud_pipeline,\n",
    "    arguments=ARGUMENTS,\n",
    "    namespace=NAMESPACE,\n",
    "    pipeline_conf=pipeline_conf,\n",
    ")"
   ]
  },
  {
   "cell_type": "markdown",
   "id": "778778e2-cc0a-4f16-8300-2533a4c3e379",
   "metadata": {},
   "source": [
    "## 5.) Inference"
   ]
  },
  {
   "cell_type": "code",
   "execution_count": 32,
   "id": "bb28e983-a0fe-4e36-9397-ca2b849fee61",
   "metadata": {},
   "outputs": [
    {
     "data": {
      "text/plain": [
       "{'name': 'model',\n",
       " 'versions': ['34'],\n",
       " 'platform': 'onnxruntime_onnx',\n",
       " 'inputs': [{'name': 'input_1', 'datatype': 'FP32', 'shape': [-1, 4, 111]}],\n",
       " 'outputs': [{'name': 'dense', 'datatype': 'FP32', 'shape': [-1, 1]}]}"
      ]
     },
     "execution_count": 32,
     "metadata": {},
     "output_type": "execute_result"
    }
   ],
   "source": [
    "HOST = f\"{MODEL_NAME}-predictor-default.{NAMESPACE}\"\n",
    "HEADERS = {\"Host\": HOST}\n",
    "MODEL_ENDPOINT = f\"http://{MODEL_NAME}-predictor-default/v2/models/model\"\n",
    "\n",
    "res_svc = requests.get(MODEL_ENDPOINT, headers=HEADERS)\n",
    "response_svc = json.loads(res_svc.text)\n",
    "response_svc"
   ]
  },
  {
   "cell_type": "code",
   "execution_count": 6,
   "id": "af216a33-cb22-47dc-9349-a229d2ee8b7a",
   "metadata": {},
   "outputs": [
    {
     "name": "stdout",
     "output_type": "stream",
     "text": [
      "Retrieved 20 rows\n"
     ]
    }
   ],
   "source": [
    "def get_data_table():\n",
    "    import pandas as pd\n",
    "    from trino.dbapi import Connection\n",
    "\n",
    "    with Connection(\n",
    "        host=\"trino.trino\",\n",
    "        port=\"8080\",\n",
    "        user=\"anybody\",\n",
    "        catalog=\"postgresql\",\n",
    "        schema=\"public\",\n",
    "    ) as conn:\n",
    "        link = conn.cursor()\n",
    "        link.execute(\"SELECT * FROM transactions LIMIT 20\")\n",
    "        return pd.DataFrame(link.fetchall())\n",
    "\n",
    "\n",
    "vdf = get_data_table()\n",
    "print(f\"Retrieved {len(vdf)} rows\")"
   ]
  },
  {
   "cell_type": "code",
   "execution_count": 34,
   "id": "decf5d46-5e7e-4306-8eff-0421b3026296",
   "metadata": {},
   "outputs": [
    {
     "name": "stdout",
     "output_type": "stream",
     "text": [
      "[{'name': 'dense', 'datatype': 'FP32', 'shape': [1, 1], 'data': [7.686018943786621e-05]}]\n",
      "Actual (0) vs. Prediction (0.0 => 0)\n",
      "[{'name': 'dense', 'datatype': 'FP32', 'shape': [1, 1], 'data': [9.912252426147461e-05]}]\n",
      "Actual (0) vs. Prediction (0.0 => 0)\n",
      "[{'name': 'dense', 'datatype': 'FP32', 'shape': [1, 1], 'data': [7.399916648864746e-05]}]\n",
      "Actual (0) vs. Prediction (0.0 => 0)\n",
      "[{'name': 'dense', 'datatype': 'FP32', 'shape': [1, 1], 'data': [0.0002008974552154541]}]\n",
      "Actual (0) vs. Prediction (0.0 => 0)\n",
      "[{'name': 'dense', 'datatype': 'FP32', 'shape': [1, 1], 'data': [6.222724914550781e-05]}]\n",
      "Actual (0) vs. Prediction (0.0 => 0)\n",
      "[{'name': 'dense', 'datatype': 'FP32', 'shape': [1, 1], 'data': [6.127357482910156e-05]}]\n",
      "Actual (0) vs. Prediction (0.0 => 0)\n",
      "[{'name': 'dense', 'datatype': 'FP32', 'shape': [1, 1], 'data': [0.00016433000564575195]}]\n",
      "Actual (0) vs. Prediction (0.0 => 0)\n",
      "[{'name': 'dense', 'datatype': 'FP32', 'shape': [1, 1], 'data': [0.0001640617847442627]}]\n",
      "Actual (0) vs. Prediction (0.0 => 0)\n",
      "[{'name': 'dense', 'datatype': 'FP32', 'shape': [1, 1], 'data': [9.381771087646484e-05]}]\n",
      "Actual (0) vs. Prediction (0.0 => 0)\n",
      "[{'name': 'dense', 'datatype': 'FP32', 'shape': [1, 1], 'data': [6.446242332458496e-05]}]\n",
      "Actual (0) vs. Prediction (0.0 => 0)\n",
      "[{'name': 'dense', 'datatype': 'FP32', 'shape': [1, 1], 'data': [0.00010567903518676758]}]\n",
      "Actual (0) vs. Prediction (0.0 => 0)\n",
      "[{'name': 'dense', 'datatype': 'FP32', 'shape': [1, 1], 'data': [9.676814079284668e-05]}]\n",
      "Actual (0) vs. Prediction (0.0 => 0)\n",
      "[{'name': 'dense', 'datatype': 'FP32', 'shape': [1, 1], 'data': [5.0395727157592773e-05]}]\n",
      "Actual (0) vs. Prediction (0.0 => 0)\n",
      "[{'name': 'dense', 'datatype': 'FP32', 'shape': [1, 1], 'data': [5.4210424423217773e-05]}]\n",
      "Actual (0) vs. Prediction (0.0 => 0)\n",
      "[{'name': 'dense', 'datatype': 'FP32', 'shape': [1, 1], 'data': [5.0395727157592773e-05]}]\n",
      "Actual (0) vs. Prediction (0.0 => 0)\n",
      "[{'name': 'dense', 'datatype': 'FP32', 'shape': [1, 1], 'data': [4.9591064453125e-05]}]\n",
      "Actual (0) vs. Prediction (0.0 => 0)\n",
      "[{'name': 'dense', 'datatype': 'FP32', 'shape': [1, 1], 'data': [4.926323890686035e-05]}]\n",
      "Actual (0) vs. Prediction (0.0 => 0)\n"
     ]
    }
   ],
   "source": [
    "x, y = vdf.drop([0], axis=1).to_numpy(), vdf[0].to_numpy().reshape(len(vdf), 1)\n",
    "dataset = keras.preprocessing.timeseries_dataset_from_array(\n",
    "    x, y, sequence_length=response_svc[\"inputs\"][0][\"shape\"][1], batch_size=128\n",
    ")\n",
    "\n",
    "PREDICT_ENDPOINT = MODEL_ENDPOINT + \"/infer\"\n",
    "\n",
    "for batch in dataset.take(10):\n",
    "    input_d, output_d = batch[0], batch[1]\n",
    "    for in_x, out_y in zip(input_d, output_d):\n",
    "        payload = {\n",
    "            \"inputs\": [\n",
    "                {\n",
    "                    \"name\": response_svc[\"inputs\"][0][\"name\"],\n",
    "                    \"shape\": [\n",
    "                        1,\n",
    "                        4,\n",
    "                        111,\n",
    "                    ],  # has to match response_svc[\"inputs\"][0][\"shape\"] (except for 1. dimension)\n",
    "                    \"datatype\": response_svc[\"inputs\"][0][\"datatype\"],\n",
    "                    \"data\": in_x.numpy().tolist(),\n",
    "                }\n",
    "            ]\n",
    "        }\n",
    "        res = requests.post(PREDICT_ENDPOINT, headers=HEADERS, data=json.dumps(payload))\n",
    "        response = json.loads(res.text)\n",
    "        print(response[\"outputs\"])\n",
    "        pred = response[\"outputs\"][0][\"data\"][0]\n",
    "        print(\n",
    "            f\"Actual ({out_y.numpy()[0]}) vs. Prediction ({round(pred, 3)} => {int(round(pred, 0))})\"\n",
    "        )"
   ]
  },
  {
   "cell_type": "code",
   "execution_count": null,
   "id": "9a8aa2a0-518e-4c7e-b004-b7a5379b5dba",
   "metadata": {},
   "outputs": [],
   "source": []
  }
 ],
 "metadata": {
  "kernelspec": {
   "display_name": "Python 3 (ipykernel)",
   "language": "python",
   "name": "python3"
  },
  "language_info": {
   "codemirror_mode": {
    "name": "ipython",
    "version": 3
   },
   "file_extension": ".py",
   "mimetype": "text/x-python",
   "name": "python",
   "nbconvert_exporter": "python",
   "pygments_lexer": "ipython3",
   "version": "3.9.16"
  }
 },
 "nbformat": 4,
 "nbformat_minor": 5
}
